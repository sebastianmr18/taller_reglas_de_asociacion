{
 "cells": [
  {
   "cell_type": "markdown",
   "metadata": {},
   "source": [
    "# Taller de Reglas de Asociación"
   ]
  },
  {
   "cell_type": "markdown",
   "metadata": {},
   "source": [
    "Los algoritmos de reglas de asociación se utilizan para encontrar hechos o elementos que ocureen en comñun dentro de un determinado conjunto de datos. Se definen como reglas de implicación del tipo <b>\"si X entonces Y\" (X --> Y)</b> donde <i>X</i> es el antecedente o LHS y <i>Y</i> es el consecuente o RHS.\n",
    "Ejemplo: La regla <b>{A, B} --> C</b> indica que si A y B ocurren en un conjunto de items, entonces C también ocurre en ese conjunto. El lado izquiero de la regla recibe el nombre de antecedente o Left Hand Side (LHS) y el lado derecho de la regla recibe el nombre de consecuente o Right Hand Side (RHS)."
   ]
  },
  {
   "cell_type": "markdown",
   "metadata": {},
   "source": [
    "## Conceptos importantes\n",
    "<ul>\n",
    "<li><b>Ítem:</b> cada uno de los elementos que componen una transacción.</li>\n",
    "\n",
    "<li><b>Itemset:</b> conjunto de ítems. Un k-itemset es un itemset con k items.</li>\n",
    "\n",
    "<li><b>Transacción:</b> conjunto de ítems vinculados a un evento concreto y con un identificador único.</li>\n",
    "</ul>"
   ]
  },
  {
   "cell_type": "markdown",
   "metadata": {},
   "source": [
    "### Imports"
   ]
  },
  {
   "cell_type": "code",
   "execution_count": null,
   "metadata": {},
   "outputs": [],
   "source": [
    "import pandas as pd\n",
    "from apyori import apriori"
   ]
  },
  {
   "cell_type": "markdown",
   "metadata": {},
   "source": [
    "### Carga de archivos"
   ]
  },
  {
   "cell_type": "code",
   "execution_count": null,
   "metadata": {},
   "outputs": [],
   "source": [
    "recetados_df = pd.read_csv(\"medicamentos_recetados.csv\")\n",
    "dimension_df = pd.read_csv(\"dim_medicamento.csv\")"
   ]
  },
  {
   "cell_type": "code",
   "execution_count": null,
   "metadata": {},
   "outputs": [],
   "source": [
    "print(recetados_df.info())\n",
    "print(dimension_df.info())"
   ]
  },
  {
   "cell_type": "markdown",
   "metadata": {},
   "source": [
    "### Transformación de datos"
   ]
  },
  {
   "cell_type": "code",
   "execution_count": null,
   "metadata": {},
   "outputs": [],
   "source": [
    "merged_df = pd.merge(\n",
    "    recetados_df, \n",
    "    dimension_df[['key_medicamento', 'Nombre Generico']], \n",
    "    on='key_medicamento', \n",
    "    how='inner'\n",
    ")"
   ]
  },
  {
   "cell_type": "code",
   "execution_count": null,
   "metadata": {},
   "outputs": [],
   "source": [
    "merged_df.head()"
   ]
  },
  {
   "cell_type": "code",
   "execution_count": null,
   "metadata": {},
   "outputs": [],
   "source": [
    "medications_gropued_by_formula = merged_df.groupby('codigo_formula')['Nombre Generico'].apply(list)\n",
    "transactions = medications_gropued_by_formula.tolist()\n",
    "medications_gropued_by_formula.to_csv('assets/result_files/medications_grouped_by_formula.csv')"
   ]
  },
  {
   "cell_type": "code",
   "execution_count": null,
   "metadata": {},
   "outputs": [],
   "source": [
    "print(\"medicamentos_agrupados_por_formula\")\n",
    "print(medications_gropued_by_formula)\n",
    "print(\"transacciones_lista_por_formula\")\n",
    "print(transactions)"
   ]
  },
  {
   "cell_type": "code",
   "execution_count": null,
   "metadata": {},
   "outputs": [],
   "source": [
    "print(transactions[122])"
   ]
  },
  {
   "cell_type": "markdown",
   "metadata": {},
   "source": [
    "### Algoritmo Apriori"
   ]
  },
  {
   "cell_type": "markdown",
   "metadata": {},
   "source": [
    "Es un algoritmo propuesto por Adrwal y Srikant en 1994.\n",
    "#### Reglas de asociación utlizadas\n",
    "##### Soporte\n",
    "Para un item o itemset X, el soporte es el número de transacciones que contienen X, divido entre el total de transacciones.\n",
    "\n",
    "Se tiene la siguiente ecuación:\n",
    "\n",
    "<p align=\"center\">\n",
    "  <img src=\"assets/images/support-ec.png\" alt=\"support-ec\" width=\"500\"/>\n",
    "</p>\n",
    "\n",
    "##### Confianza\n",
    "Se tiene que X --> Y, entonces la confianza se define siguiendo la ecuación:\n",
    "\n",
    "<p align=\"center\">\n",
    "  <img src=\"assets/images/confidence-ec.png\" alt=\"confidence-ec\" width=\"500\"/>\n",
    "</p>\n",
    "\n",
    "donde union(X,Y) es el itemset que contiene todos los items de X y Y. La confianza se interpreta como la probabilidad de que una transaccion que contiene los items de X, tambien contiene los items de Y.\n",
    "\n",
    "##### Lift\n",
    "Mide la frecuencia son la que se encuentra el consecuente Y de cuando el antecendete A esta presenta dentro de una asociación X --> Y, comparado a lo que deberia ocurrir si fueran estadisticamente independientes. En otras palabras, compara la frecuencia observada del patrón con lo que se esperaría solo por azar. Se tiene la siguiente ecuación:\n",
    "\n",
    "<p align=\"center\">\n",
    "  <img src=\"assets/images/lift-ec.png\" alt=\"lift-ec\" width=\"300\"/>\n",
    "</p>"
   ]
  },
  {
   "cell_type": "markdown",
   "metadata": {},
   "source": [
    "##### Ejecución manual de las reglas de asociación\n",
    "\n",
    "Cambiar lhs_med y rhs_med por las dos medicaciones que se quiere probar manualmente."
   ]
  },
  {
   "cell_type": "code",
   "execution_count": null,
   "metadata": {},
   "outputs": [],
   "source": [
    "total_transactions = len(transactions)\n",
    "lhs_med = 'AMIKACINA'\n",
    "rhs_med = 'VANCOMICINA'\n",
    "\n",
    "count_both = sum([lhs_med in t and rhs_med in t for t in transactions])\n",
    "print(\"Transacciones ambas:\", count_both)\n",
    "\n",
    "count_lhs = sum([lhs_med in t for t in transactions])\n",
    "print(\"Transacciones izquierda:\", count_lhs)\n",
    "\n",
    "count_rhs = sum([rhs_med in t for t in transactions])\n",
    "print(\"Transacciones derecha:\", count_rhs)\n",
    "\n",
    "support_lhs = count_lhs / total_transactions\n",
    "print(\"Soporte izquierda:\", support_lhs)\n",
    "\n",
    "support_rhs = count_rhs / total_transactions\n",
    "print(\"Soporte derecha:\", support_rhs)\n",
    "\n",
    "support_manual = count_both / total_transactions\n",
    "print(\"Soporte manual:\", support_manual)\n",
    "\n",
    "confidence_manual = count_both / count_lhs if count_lhs > 0 else 0\n",
    "print(\"Confidencia manual:\", confidence_manual)\n",
    "\n",
    "lift_manual = confidence_manual / support_rhs if count_rhs > 0 else 0\n",
    "print(\"Lift manual:\", lift_manual)\n"
   ]
  },
  {
   "cell_type": "code",
   "execution_count": null,
   "metadata": {},
   "outputs": [],
   "source": [
    "rules = apriori(\n",
    "    transactions,\n",
    "    min_support=0.0005,\n",
    "    min_confidence=0.3,\n",
    "    min_lift=0.1,\n",
    "    min_length=2,\n",
    ")\n",
    "\n",
    "results = list(rules)"
   ]
  },
  {
   "cell_type": "markdown",
   "metadata": {},
   "source": [
    "Aqui se retorna un DataFrame con las reglas de asociación de medicaciones, aún no se pueden visualizar correctamente."
   ]
  },
  {
   "cell_type": "code",
   "execution_count": null,
   "metadata": {},
   "outputs": [],
   "source": [
    "rules_df = pd.DataFrame(results)\n",
    "rules_df.head(30)"
   ]
  },
  {
   "cell_type": "markdown",
   "metadata": {},
   "source": [
    "En esta sección se inspecciona el dataFrame results para mostrar los medicamentos y los datos obtenidos para cada asociación."
   ]
  },
  {
   "cell_type": "code",
   "execution_count": null,
   "metadata": {},
   "outputs": [],
   "source": [
    "def inspect(output):\n",
    "    lhs = [tuple(result[2][0][0])[0] for result in output if len(result[2]) > 0]\n",
    "    rhs = [tuple(result[2][0][1])[0] for result in output if len(result[2]) > 0]\n",
    "    support = [result[1] for result in output if len(result[2]) > 0]\n",
    "    confidence = [result[2][0][2] for result in output if len(result[2]) > 0]\n",
    "    lift = [result[2][0][3] for result in output if len(result[2]) > 0]\n",
    "    return list(zip(lhs, rhs, support, confidence, lift))\n",
    "\n",
    "\n",
    "transactions_with_associations_df = pd.DataFrame(inspect(results), columns=['Left Hand Side', 'Right Hand Side', 'Support', 'Confidence', 'Lift'])\n",
    "transactions_with_associations_df.head(10)"
   ]
  },
  {
   "cell_type": "markdown",
   "metadata": {},
   "source": [
    "Guardamos en un csv y verificamos la cantidad de filas y columnas."
   ]
  },
  {
   "cell_type": "code",
   "execution_count": null,
   "metadata": {},
   "outputs": [],
   "source": [
    "transactions_with_associations_df.to_csv('assets/result_files/transactions_with_associations.csv', index=False)\n",
    "transactions_with_associations_df.shape"
   ]
  },
  {
   "cell_type": "code",
   "execution_count": null,
   "metadata": {},
   "outputs": [],
   "source": [
    "transactions_with_associations_df.nlargest(n=119, columns='Confidence')"
   ]
  },
  {
   "cell_type": "markdown",
   "metadata": {},
   "source": [
    "Es posible que algunas asociaciones aparezcan duplicadas, por lo que limpiamos la tabla filtrando los duplicados."
   ]
  },
  {
   "cell_type": "code",
   "execution_count": null,
   "metadata": {},
   "outputs": [],
   "source": [
    "transactions_with_associations_df_cleaned = transactions_with_associations_df[transactions_with_associations_df['Right Hand Side'] != 'nan']\n",
    "transactions_with_associations_df_cleaned = transactions_with_associations_df_cleaned.drop_duplicates(\n",
    "    subset=['Left Hand Side', 'Right Hand Side'], keep='first')\n",
    "transactions_with_associations_df_cleaned.nlargest(n=111, columns= 'Confidence')"
   ]
  },
  {
   "cell_type": "markdown",
   "metadata": {},
   "source": [
    "Guardamos en otro csv y verificamos las filas y columnas que quedan."
   ]
  },
  {
   "cell_type": "code",
   "execution_count": null,
   "metadata": {},
   "outputs": [],
   "source": [
    "transactions_with_associations_df_cleaned.to_csv('assets/result_files/transactions_with_associations_cleaned.csv', index=False)\n",
    "transactions_with_associations_df_cleaned.shape"
   ]
  },
  {
   "cell_type": "markdown",
   "metadata": {},
   "source": [
    "Ahora ordenamos por confianza y si hay igualdad, por soporte."
   ]
  },
  {
   "cell_type": "code",
   "execution_count": null,
   "metadata": {},
   "outputs": [],
   "source": [
    "#transactions_with_associations_df_cleaned.nlargest(n=40, columns= 'Confidence')\n",
    "sorted_transactions_with_associations_df_cleaned = transactions_with_associations_df_cleaned.sort_values(\n",
    "    by=['Confidence', 'Support'], ascending=[False, False])\n",
    "\n",
    "sorted_transactions_with_associations_df_cleaned.head(30)"
   ]
  },
  {
   "cell_type": "markdown",
   "metadata": {},
   "source": [
    "## ¿Qué significan los resultados?\n",
    "En este dataFrame ordenamos las asociaciones de medicamentos por confianza, por lo que se puede afirmar con una confianza muy alta que, si se compra el medicamento de la izquierda, se compra el medicamento de la derecha.\n",
    "\n",
    "Como criterio de desempate, se considera el soporte de la asociación, es decir, el número de veces que se llevan estos medicamentos sobre el total de transacciones."
   ]
  }
 ],
 "metadata": {
  "kernelspec": {
   "display_name": ".venv",
   "language": "python",
   "name": "python3"
  },
  "language_info": {
   "codemirror_mode": {
    "name": "ipython",
    "version": 3
   },
   "file_extension": ".py",
   "mimetype": "text/x-python",
   "name": "python",
   "nbconvert_exporter": "python",
   "pygments_lexer": "ipython3",
   "version": "3.10.12"
  }
 },
 "nbformat": 4,
 "nbformat_minor": 2
}
